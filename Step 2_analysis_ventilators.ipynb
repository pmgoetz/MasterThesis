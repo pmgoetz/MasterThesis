{
 "cells": [
  {
   "cell_type": "markdown",
   "id": "7608cd95",
   "metadata": {},
   "source": [
    "# Analysing the results of the directed search for ventilators"
   ]
  },
  {
   "cell_type": "code",
   "execution_count": 1,
   "id": "1338fdff",
   "metadata": {},
   "outputs": [
    {
     "name": "stderr",
     "output_type": "stream",
     "text": [
      "c:\\users\\pmg00\\appdata\\local\\programs\\python\\python37\\lib\\site-packages\\ema_workbench\\analysis\\prim.py:31: ImportWarning: altair based interactive inspection not available\n",
      "  \"inspection not available\"), ImportWarning)\n"
     ]
    }
   ],
   "source": [
    "#importing relevant packages\n",
    "from ema_workbench import ema_logging, load_results\n",
    "from ema_workbench.analysis import parcoords\n",
    "import matplotlib.pyplot as plt\n",
    "import pandas as pd\n",
    "import seaborn as sbn\n",
    "from ema_workbench.analysis import parcoords"
   ]
  },
  {
   "cell_type": "markdown",
   "id": "f0f1cafc",
   "metadata": {},
   "source": [
    "## Epsilon Progress"
   ]
  },
  {
   "cell_type": "code",
   "execution_count": 11,
   "id": "af0fd97d",
   "metadata": {},
   "outputs": [
    {
     "data": {
      "text/html": [
       "<div>\n",
       "<style scoped>\n",
       "    .dataframe tbody tr th:only-of-type {\n",
       "        vertical-align: middle;\n",
       "    }\n",
       "\n",
       "    .dataframe tbody tr th {\n",
       "        vertical-align: top;\n",
       "    }\n",
       "\n",
       "    .dataframe thead th {\n",
       "        text-align: right;\n",
       "    }\n",
       "</style>\n",
       "<table border=\"1\" class=\"dataframe\">\n",
       "  <thead>\n",
       "    <tr style=\"text-align: right;\">\n",
       "      <th></th>\n",
       "      <th>epsilon_progress</th>\n",
       "      <th>nfe</th>\n",
       "    </tr>\n",
       "  </thead>\n",
       "  <tbody>\n",
       "    <tr>\n",
       "      <th>0</th>\n",
       "      <td>0</td>\n",
       "      <td>0</td>\n",
       "    </tr>\n",
       "    <tr>\n",
       "      <th>1</th>\n",
       "      <td>8</td>\n",
       "      <td>100</td>\n",
       "    </tr>\n",
       "    <tr>\n",
       "      <th>2</th>\n",
       "      <td>14</td>\n",
       "      <td>1100</td>\n",
       "    </tr>\n",
       "    <tr>\n",
       "      <th>3</th>\n",
       "      <td>14</td>\n",
       "      <td>2100</td>\n",
       "    </tr>\n",
       "    <tr>\n",
       "      <th>4</th>\n",
       "      <td>15</td>\n",
       "      <td>3100</td>\n",
       "    </tr>\n",
       "  </tbody>\n",
       "</table>\n",
       "</div>"
      ],
      "text/plain": [
       "   epsilon_progress   nfe\n",
       "0                 0     0\n",
       "1                 8   100\n",
       "2                14  1100\n",
       "3                14  2100\n",
       "4                15  3100"
      ]
     },
     "execution_count": 11,
     "metadata": {},
     "output_type": "execute_result"
    }
   ],
   "source": [
    "epsilon_progress=pd.read_csv('./data/4000_convergence_ventilator.csv', delimiter = ',')\n",
    "epsilon_progress = epsilon_progress.drop(['Unnamed: 0'], axis=1)\n",
    "epsilon_progress"
   ]
  },
  {
   "cell_type": "code",
   "execution_count": 30,
   "id": "aa35d0cd",
   "metadata": {},
   "outputs": [
    {
     "data": {
      "image/png": "[encoded data removed]",
      "text/plain": [
       "<Figure size 432x288 with 1 Axes>"
      ]
     },
     "metadata": {
      "needs_background": "light"
     },
     "output_type": "display_data"
    }
   ],
   "source": [
    "# gca stands for 'get current axis'\n",
    "ax = plt.gca()\n",
    "\n",
    "epsilon_progress.plot(kind='line',x='nfe',y='epsilon_progress',ax=ax)\n",
    "ax.set_ylabel('$\\epsilon$-progress')\n",
    "plt.savefig(\"./figures/epsilonprogressVent.png\")"
   ]
  },
  {
   "cell_type": "markdown",
   "id": "cfe01bad",
   "metadata": {},
   "source": [
    "## Investigating candiate policy"
   ]
  },
  {
   "cell_type": "code",
   "execution_count": 4,
   "id": "0c9a8613",
   "metadata": {
    "scrolled": true
   },
   "outputs": [],
   "source": [
    "results=pd.read_csv('./data/4000_candidate_ventilator.csv', delimiter = ';', decimal= \",\")\n",
    "results = results.drop(['Unnamed: 0'], axis=1)\n",
    "candidate_policy = results.drop(['Switch stockpile ventilators'], axis =1)\n",
    "candidate_policy = candidate_policy.drop(['Coverage ventilator'], axis =1)"
   ]
  },
  {
   "cell_type": "code",
   "execution_count": 7,
   "id": "d5a6c074",
   "metadata": {},
   "outputs": [
    {
     "data": {
      "text/html": [
       "<div>\n",
       "<style scoped>\n",
       "    .dataframe tbody tr th:only-of-type {\n",
       "        vertical-align: middle;\n",
       "    }\n",
       "\n",
       "    .dataframe tbody tr th {\n",
       "        vertical-align: top;\n",
       "    }\n",
       "\n",
       "    .dataframe thead th {\n",
       "        text-align: right;\n",
       "    }\n",
       "</style>\n",
       "<table border=\"1\" class=\"dataframe\">\n",
       "  <thead>\n",
       "    <tr style=\"text-align: right;\">\n",
       "      <th></th>\n",
       "      <th>Switch procurement world market ventilator</th>\n",
       "      <th>Switch direct tender ventilators</th>\n",
       "      <th>Switch innovation process ventilator</th>\n",
       "      <th>Switch loaning ventilators</th>\n",
       "      <th>Switch domestic production ventilators</th>\n",
       "      <th>Direct tender set up time ventilator</th>\n",
       "      <th>Check up time</th>\n",
       "      <th>Delay domestic production setup ventilator</th>\n",
       "      <th>Delivery time of ventilators stockpiling</th>\n",
       "      <th>Procurement time ventilators worldwide</th>\n",
       "      <th>...</th>\n",
       "      <th>Shipment time to hospitals</th>\n",
       "      <th>Order buffer procurement world market vent</th>\n",
       "      <th>Order buffer direct tender vent</th>\n",
       "      <th>Order buffer domestic production</th>\n",
       "      <th>Order buffer innovation</th>\n",
       "      <th>Time to establish loaning process</th>\n",
       "      <th>Time horizon for forecast</th>\n",
       "      <th>Urgentness</th>\n",
       "      <th>Initial ventilators in stockpile</th>\n",
       "      <th>Government support</th>\n",
       "    </tr>\n",
       "  </thead>\n",
       "  <tbody>\n",
       "    <tr>\n",
       "      <th>0</th>\n",
       "      <td>0</td>\n",
       "      <td>1</td>\n",
       "      <td>0</td>\n",
       "      <td>1</td>\n",
       "      <td>1</td>\n",
       "      <td>7.973928</td>\n",
       "      <td>7.253097</td>\n",
       "      <td>7.263243</td>\n",
       "      <td>1.076921</td>\n",
       "      <td>20.838938</td>\n",
       "      <td>...</td>\n",
       "      <td>1.002563</td>\n",
       "      <td>0.82236</td>\n",
       "      <td>1.399103</td>\n",
       "      <td>0.67371</td>\n",
       "      <td>0.971423</td>\n",
       "      <td>15.268815</td>\n",
       "      <td>21.837371</td>\n",
       "      <td>1.715718</td>\n",
       "      <td>6117.520616</td>\n",
       "      <td>0.079924</td>\n",
       "    </tr>\n",
       "  </tbody>\n",
       "</table>\n",
       "<p>1 rows × 22 columns</p>\n",
       "</div>"
      ],
      "text/plain": [
       "   Switch procurement world market ventilator  \\\n",
       "0                                           0   \n",
       "\n",
       "   Switch direct tender ventilators  Switch innovation process ventilator  \\\n",
       "0                                 1                                     0   \n",
       "\n",
       "   Switch loaning ventilators  Switch domestic production ventilators  \\\n",
       "0                           1                                       1   \n",
       "\n",
       "   Direct tender set up time ventilator  Check up time  \\\n",
       "0                              7.973928       7.253097   \n",
       "\n",
       "   Delay domestic production setup ventilator  \\\n",
       "0                                    7.263243   \n",
       "\n",
       "   Delivery time of ventilators stockpiling  \\\n",
       "0                                  1.076921   \n",
       "\n",
       "   Procurement time ventilators worldwide  ...  Shipment time to hospitals  \\\n",
       "0                               20.838938  ...                    1.002563   \n",
       "\n",
       "   Order buffer procurement world market vent  \\\n",
       "0                                     0.82236   \n",
       "\n",
       "   Order buffer direct tender vent  Order buffer domestic production  \\\n",
       "0                         1.399103                           0.67371   \n",
       "\n",
       "   Order buffer innovation  Time to establish loaning process  \\\n",
       "0                 0.971423                          15.268815   \n",
       "\n",
       "   Time horizon for forecast  Urgentness  Initial ventilators in stockpile  \\\n",
       "0                  21.837371    1.715718                       6117.520616   \n",
       "\n",
       "   Government support   \n",
       "0             0.079924  \n",
       "\n",
       "[1 rows x 22 columns]"
      ]
     },
     "execution_count": 7,
     "metadata": {},
     "output_type": "execute_result"
    }
   ],
   "source": [
    "candidate_policy"
   ]
  },
  {
   "cell_type": "code",
   "execution_count": 24,
   "id": "775a1803",
   "metadata": {},
   "outputs": [],
   "source": [
    "Order_buffer_vent = results.loc[:, ['Order buffer direct tender vent', 'Order buffer domestic production']].transpose()"
   ]
  },
  {
   "cell_type": "code",
   "execution_count": 35,
   "id": "42e93fa4",
   "metadata": {},
   "outputs": [
    {
     "data": {
      "image/png": "[encoded data removed]",
      "text/plain": [
       "<Figure size 360x288 with 1 Axes>"
      ]
     },
     "metadata": {
      "needs_background": "light"
     },
     "output_type": "display_data"
    }
   ],
   "source": [
    "axes = Order_buffer_vent.plot.bar()\n",
    "plt.title(label='Order Buffers for Ventilator Candidate Strategy')\n",
    "axes.get_legend().remove()\n",
    "axes.set_ylabel('Order buffer')\n",
    "axes.set_xticklabels(['Direct tender', 'Domestic production'])\n",
    "fig = plt.gcf()\n",
    "fig.set_size_inches(5,4)\n",
    "plt.savefig(\"./figures/OrderBufferVentCandidate.png\")\n",
    "\n",
    "plt.show()"
   ]
  },
  {
   "cell_type": "code",
   "execution_count": 51,
   "id": "d2c25bec",
   "metadata": {},
   "outputs": [],
   "source": [
    "candidate_policy.to_csv('./data/candidate_policy_step4_vent.csv')"
   ]
  },
  {
   "cell_type": "code",
   "execution_count": 50,
   "id": "8b40b93a",
   "metadata": {
    "scrolled": true
   },
   "outputs": [
    {
     "data": {
      "text/html": [
       "<div>\n",
       "<style scoped>\n",
       "    .dataframe tbody tr th:only-of-type {\n",
       "        vertical-align: middle;\n",
       "    }\n",
       "\n",
       "    .dataframe tbody tr th {\n",
       "        vertical-align: top;\n",
       "    }\n",
       "\n",
       "    .dataframe thead th {\n",
       "        text-align: right;\n",
       "    }\n",
       "</style>\n",
       "<table border=\"1\" class=\"dataframe\">\n",
       "  <thead>\n",
       "    <tr style=\"text-align: right;\">\n",
       "      <th></th>\n",
       "      <th>Switch procurement world market ventilator</th>\n",
       "      <th>Switch direct tender ventilators</th>\n",
       "      <th>Switch innovation process ventilator</th>\n",
       "      <th>Switch loaning ventilators</th>\n",
       "      <th>Switch domestic production ventilators</th>\n",
       "      <th>Time to check products</th>\n",
       "      <th>Shipment time to hospitals</th>\n",
       "      <th>Order buffer procurement world market vent</th>\n",
       "      <th>Order buffer direct tender vent</th>\n",
       "      <th>Order buffer domestic production</th>\n",
       "      <th>Order buffer innovation</th>\n",
       "      <th>Time to establish loaning process</th>\n",
       "      <th>Time horizon for forecast</th>\n",
       "      <th>Urgentness</th>\n",
       "      <th>Initial ventilators in stockpile</th>\n",
       "      <th>Government support</th>\n",
       "    </tr>\n",
       "  </thead>\n",
       "  <tbody>\n",
       "    <tr>\n",
       "      <th>0</th>\n",
       "      <td>1</td>\n",
       "      <td>1</td>\n",
       "      <td>0</td>\n",
       "      <td>1</td>\n",
       "      <td>1</td>\n",
       "      <td>1.009139</td>\n",
       "      <td>1.000069</td>\n",
       "      <td>2.894158</td>\n",
       "      <td>1.555492</td>\n",
       "      <td>1.946277</td>\n",
       "      <td>2.85452</td>\n",
       "      <td>7.133565</td>\n",
       "      <td>26.694541</td>\n",
       "      <td>3.874732</td>\n",
       "      <td>9142.388439</td>\n",
       "      <td>0.085847</td>\n",
       "    </tr>\n",
       "  </tbody>\n",
       "</table>\n",
       "</div>"
      ],
      "text/plain": [
       "   Switch procurement world market ventilator  \\\n",
       "0                                           1   \n",
       "\n",
       "   Switch direct tender ventilators  Switch innovation process ventilator  \\\n",
       "0                                 1                                     0   \n",
       "\n",
       "   Switch loaning ventilators  Switch domestic production ventilators  \\\n",
       "0                           1                                       1   \n",
       "\n",
       "   Time to check products  Shipment time to hospitals  \\\n",
       "0                1.009139                    1.000069   \n",
       "\n",
       "   Order buffer procurement world market vent  \\\n",
       "0                                    2.894158   \n",
       "\n",
       "   Order buffer direct tender vent  Order buffer domestic production  \\\n",
       "0                         1.555492                          1.946277   \n",
       "\n",
       "   Order buffer innovation  Time to establish loaning process  \\\n",
       "0                  2.85452                           7.133565   \n",
       "\n",
       "   Time horizon for forecast  Urgentness  Initial ventilators in stockpile  \\\n",
       "0                  26.694541    3.874732                       9142.388439   \n",
       "\n",
       "   Government support   \n",
       "0             0.085847  "
      ]
     },
     "execution_count": 50,
     "metadata": {},
     "output_type": "execute_result"
    }
   ],
   "source": [
    "candidate_policy"
   ]
  }
 ],
 "metadata": {
  "kernelspec": {
   "display_name": "Python 3 (ipykernel)",
   "language": "python",
   "name": "python3"
  },
  "language_info": {
   "codemirror_mode": {
    "name": "ipython",
    "version": 3
   },
   "file_extension": ".py",
   "mimetype": "text/x-python",
   "name": "python",
   "nbconvert_exporter": "python",
   "pygments_lexer": "ipython3",
   "version": "3.7.7"
  }
 },
 "nbformat": 4,
 "nbformat_minor": 5
}
