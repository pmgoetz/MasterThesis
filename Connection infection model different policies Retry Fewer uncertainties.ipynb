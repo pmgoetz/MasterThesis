{
 "cells": [
  {
   "cell_type": "code",
   "execution_count": 1,
   "id": "a9a3ea13",
   "metadata": {},
   "outputs": [
    {
     "data": {
      "text/plain": [
       "'C:/Users/pmg00/Documents/EPA Master program/EPA Master Thesis/Vensim Models/EMA Workbench connection'"
      ]
     },
     "execution_count": 1,
     "metadata": {},
     "output_type": "execute_result"
    }
   ],
   "source": [
    "wd = 'C:/Users/pmg00/Documents/EPA Master program/EPA Master Thesis/Vensim Models/EMA Workbench connection'\n",
    "wd"
   ]
  },
  {
   "cell_type": "code",
   "execution_count": 2,
   "id": "217f3d62",
   "metadata": {},
   "outputs": [],
   "source": [
    "import matplotlib.pyplot as plt\n",
    "import seaborn as sns\n",
    "import numpy as np\n",
    "import pandas as pd\n",
    "import pysd"
   ]
  },
  {
   "cell_type": "code",
   "execution_count": 3,
   "id": "1d8c9e44",
   "metadata": {},
   "outputs": [
    {
     "name": "stderr",
     "output_type": "stream",
     "text": [
      "c:\\users\\pmg00\\appdata\\local\\programs\\python\\python37\\lib\\site-packages\\ema_workbench\\connectors\\__init__.py:27: ImportWarning: netlogo connector not available\n",
      "  warnings.warn(\"netlogo connector not available\", ImportWarning)\n"
     ]
    },
    {
     "data": {
      "text/plain": [
       "<Logger EMA (DEBUG)>"
      ]
     },
     "execution_count": 3,
     "metadata": {},
     "output_type": "execute_result"
    }
   ],
   "source": [
    "import os\n",
    "\n",
    "from ema_workbench import (Model, RealParameter, CategoricalParameter,ScalarOutcome, ema_logging,\n",
    "                           perform_experiments, IntegerParameter, Constant, save_results, load_results,\n",
    "                           Policy,TimeSeriesOutcome,MultiprocessingEvaluator)\n",
    "\n",
    "from ema_workbench.connectors.vensim import VensimModel\n",
    "\n",
    "from ema_workbench.em_framework import samplers, util\n",
    "\n",
    "from ema_workbench import ema_logging\n",
    "ema_logging.log_to_stderr(ema_logging.INFO)\n",
    "\n",
    "#modelpy = pysd.read_vensim('Infection Model Initial 28112021 -PopulationConnected Subscripted Iterative Change .mdl')"
   ]
  },
  {
   "cell_type": "code",
   "execution_count": 4,
   "id": "c028cc5e",
   "metadata": {},
   "outputs": [],
   "source": [
    "#modelpy.components"
   ]
  },
  {
   "cell_type": "code",
   "execution_count": 5,
   "id": "0e487440",
   "metadata": {
    "scrolled": true
   },
   "outputs": [],
   "source": [
    "#print (modelpy.doc())"
   ]
  },
  {
   "cell_type": "code",
   "execution_count": 6,
   "id": "42dfa832",
   "metadata": {},
   "outputs": [],
   "source": [
    "#deaths =modelpy.run(return_columns=['total_demand_for_eye_protection_per_day'])"
   ]
  },
  {
   "cell_type": "code",
   "execution_count": 7,
   "id": "a8436875",
   "metadata": {},
   "outputs": [],
   "source": [
    "#b = modelpy.run(return_columns=['deaths'])"
   ]
  },
  {
   "cell_type": "code",
   "execution_count": 8,
   "id": "3ae7c175",
   "metadata": {},
   "outputs": [],
   "source": [
    "#deaths.plot()"
   ]
  },
  {
   "cell_type": "code",
   "execution_count": 9,
   "id": "e24599cb",
   "metadata": {},
   "outputs": [],
   "source": [
    "#modelpy.get_coords('Deaths')"
   ]
  },
  {
   "cell_type": "code",
   "execution_count": 10,
   "id": "6bbd8648",
   "metadata": {},
   "outputs": [],
   "source": [
    "Model = VensimModel('Model', wd= wd, model_file= './Models/Infection Model Testing 02032022 AllOut.vpmx')"
   ]
  },
  {
   "cell_type": "code",
   "execution_count": 11,
   "id": "1ad75df4",
   "metadata": {},
   "outputs": [],
   "source": [
    "if __name__ == '__main__':\n",
    "    ema_logging.log_to_stderr(ema_logging.INFO)"
   ]
  },
  {
   "cell_type": "code",
   "execution_count": 12,
   "id": "267be690",
   "metadata": {},
   "outputs": [],
   "source": [
    " #outcomes coverage and shortage, costs, and supply in stock\n",
    "Model.outcomes = [TimeSeriesOutcome(\"Shortage of eye protection per day in UK considering threshold\"),\n",
    "TimeSeriesOutcome(\"Shortage of simple masks per day in UK considering threshold\"),\n",
    "TimeSeriesOutcome(\"Shortage of N95 respirators per day in UK considering threshold\"),\n",
    "TimeSeriesOutcome(\"Shortage of gowns per day in UK considering threshold\"),\n",
    "TimeSeriesOutcome(\"Shortage of gloves per day in UK considering threshold\"),\n",
    "TimeSeriesOutcome(\"Total normalized coverage eye protection\"),\n",
    "TimeSeriesOutcome(\"Total normalized coverage simple masks\"),\n",
    "TimeSeriesOutcome(\"Total normalized coverage N95 respirators\"),\n",
    "TimeSeriesOutcome(\"Total normalized coverage gowns\"),\n",
    "TimeSeriesOutcome(\"Total normalized coverage gloves\"),\n",
    "TimeSeriesOutcome(\"Total normalized shortage ventilator\"),\n",
    "TimeSeriesOutcome(\"Total normalized coverage ventilator\"),\n",
    "TimeSeriesOutcome(\"Shortage of ventilators per day\"),               \n",
    "TimeSeriesOutcome(\"Normalized shortage of ventilators\"),\n",
    "TimeSeriesOutcome(\"Normalized coverage ventilators\"),\n",
    "TimeSeriesOutcome(\"Total deahs due to Covid in UK\"),\n",
    "TimeSeriesOutcome(\"Total cost for ventilators\"),\n",
    "TimeSeriesOutcome(\"Total cost for PPE\"),\n",
    "TimeSeriesOutcome(\"Eye protection supply ready to be shipped in UK\"),\n",
    "TimeSeriesOutcome(\"Simple masks supply ready to be shipped in UK\"),\n",
    "TimeSeriesOutcome(\"N95 respirators supply ready to be shipped in UK\"),\n",
    "TimeSeriesOutcome(\"Gowns supply ready to be shipped in UK\"),\n",
    "TimeSeriesOutcome(\"Gloves supply ready to be shipped in UK\"),\n",
    "TimeSeriesOutcome(\"Ventilators supply ready to be shipped\"),\n",
    "TimeSeriesOutcome(\"Coverage of eye protection for HCWs considering threshold\"),\n",
    "TimeSeriesOutcome(\"Coverage of simple masks for HCWs considering threshold\"),\n",
    "TimeSeriesOutcome(\"Coverage of N95 respirators for HCWs considering threshold\"),\n",
    "TimeSeriesOutcome(\"Coverage of gowns for HCWs considering threshold\"),\n",
    "TimeSeriesOutcome(\"Coverage of gloves for HCWs considering threshold\")]"
   ]
  },
  {
   "cell_type": "code",
   "execution_count": 13,
   "id": "39b31379",
   "metadata": {},
   "outputs": [],
   "source": [
    "# uncertainties\n",
    "# uncertainties hospital availability\n",
    "Model.uncertainties = [RealParameter('Share of hospital beds used for other patients', 0 , 0.8),\n",
    "RealParameter('Share of ICU used for other patients',0, 0.8),\n",
    "IntegerParameter(\"Switch quarantine old people\", 0,1),\n",
    "\n",
    "#uncertainties demand \n",
    "RealParameter('Gloves changes per patient per day ICU',85,250),\n",
    "RealParameter('Gloves changes per patient per day Non ICU',40 ,120),\n",
    "RealParameter('Gowns changes per patient per day ICU',10, 30),\n",
    "RealParameter('Gowns changes per patient per day non ICU',10, 30),\n",
    "RealParameter('Simple mask changes per patient per day ICU',5, 15),\n",
    "RealParameter('Simple mask changes per patient per day non ICU',5, 15),\n",
    "RealParameter('N95 respirators changes per patient per day ICU',2, 6),\n",
    "RealParameter('N95 respirators changes per patient per day non ICU',1.3 , 3.9),\n",
    "RealParameter('Eye protection changes per patient per day ICU',3, 9),\n",
    "RealParameter('Eye protection changes per patient per day non ICU',1.3 , 3.9),\n",
    "\n",
    "# uncertainties forecast type\n",
    "RealParameter('Time horizon for forecast',7 , 30),\n",
    "\n",
    "# uncertainties infection model\n",
    "RealParameter('Infectivity',0.02, 0.2),\n",
    "\n",
    "# uncertainties stockpiling PPE\n",
    "\n",
    "# domestic production PPE\n",
    "RealParameter('Transportation time domestic production PPE',1, 14),\n",
    "RealParameter('Base raw material procurement eye protection domestic production',20000,240000),\n",
    "RealParameter('Base raw material procurement simple masks domestic production',20000,900000),\n",
    "RealParameter('Base raw material procurement N95 respirators domestic production',5000,50000),\n",
    "RealParameter('Base raw material procurement gowns domestic production',20000,240000),\n",
    "RealParameter('Base raw material procurement gloves domestic production',144000,1440000),\n",
    "RealParameter('Shipment time domestic production PPE',1,21),\n",
    "RealParameter('Production time domestic production PPE',1,10),\n",
    "RealParameter('Delay domestic production PPE',7, 60),\n",
    "RealParameter('Time to reach maximum production capacity PPE dom production',5, 90),\n",
    "RealParameter('Time to reach maximum procurement capacity PPE dom production',5, 90), \n",
    "                       \n",
    "\n",
    "# direct tender PPE\n",
    "RealParameter('Transportation time direct tender PPE',1,21),\n",
    "RealParameter('Threshold to start direct tender PPE',1,21),\n",
    "RealParameter('Time to reach max direct tender',1,90),\n",
    "RealParameter('Maximum prod direct tender PPE',1,12),\n",
    "RealParameter('Base raw material eye protection capacity direct tender',20000, 400000),\n",
    "RealParameter('Base raw material simple masks capacity direct tender',50000, 2000000),\n",
    "RealParameter('Base raw material N95 respirators capacity direct tender',10000, 100000),\n",
    "RealParameter('Base raw material gowns capacity direct tender',20000, 400000),\n",
    "RealParameter('Base raw material gloves capacity direct tender',800000, 50000000),\n",
    "RealParameter('Shipment time direct tender PPE',14, 120),\n",
    "RealParameter('Share of faulty PPE',0, 0.5),\n",
    "RealParameter('Direct tender set up time PPE',1, 45),\n",
    "                       \n",
    "#innovation PPE\n",
    "# RealParameter('Urgentness',0 ,5 ),\n",
    "RealParameter('Reach PPE',0, 300),\n",
    "RealParameter('Government budget for PPE',0 , 1),\n",
    "RealParameter('Production time Innovation PPE',1, 7),\n",
    "RealParameter('Transportation time PPE innovation',3.5, 21),\n",
    "RealParameter('Shipment time innovation PPE',3.5, 14),\n",
    "RealParameter('Base raw material eye protection capacity innovation PPE',500, 30000),\n",
    "RealParameter('Base raw material simple masks capacity innovation PPE',3400, 34000 ),\n",
    "RealParameter('Base raw material N95 respirators capacity innovation PPE',3400, 25200),\n",
    "RealParameter('Base raw material gowns capacity innovation PPE',500, 30000 ),\n",
    "RealParameter('Base raw material gloves capacity innovation PPE',5000, 160000 ),\n",
    "RealParameter('Average time to approve and develop PPE',15, 120),\n",
    "RealParameter('Time to reach maximum production capacity PPE innovation',5, 90),\n",
    "RealParameter('Time to reach maximum procurement capacity PPE innovation',5, 90),                     \n",
    "RealParameter('Setting up innovation process PPE',5, 45), \n",
    "\n",
    "# procurement worldwide PPE\n",
    "RealParameter('Base raw material procurement eye protection worldwide',1000000,8000000),\n",
    "RealParameter('Base raw material procurement simple masks worldwide',10000000,60000000),\n",
    "RealParameter('Base raw material procurement N95 respirators worldwide',120000,1200000),\n",
    "RealParameter('Base raw material procurement gowns worldwide',1000000,8000000),\n",
    "RealParameter('Base raw material procurement gloves worldwide',200000000,1400000000),\n",
    "RealParameter('Preparation shipment PPE production worldwide',1, 10),\n",
    "RealParameter('Threshold for export restriction PPE',1000000, 100000000),\n",
    "RealParameter('Delayed shipment time',30, 360),\n",
    "RealParameter('Normal shipment time',7, 45),\n",
    "RealParameter('Reduction export PPE',0, 1),\n",
    "RealParameter('Set up time procurement PPE worldwide',14, 50),     \n",
    "RealParameter('Maximum increase in procurement capacity PPE',1, 20),\n",
    "RealParameter('Time to reach maximum procurement capacity PPE worldwide',14, 210),\n",
    "RealParameter('Maximum days in backlog before increase in procu capacity',1, 45),       \n",
    "RealParameter('Maximum increase in production capacity PPE',1, 20),\n",
    "RealParameter('Time to reach maximum production capacity PPE worldwide',14, 210),\n",
    "RealParameter('Maximum days in backlog before increase in prod capacity',1, 20),   \n",
    "RealParameter('Share of PPE ready for previous order',0.2, 1),\n",
    "RealParameter('Maximum transportation time PPE procurement world market',1, 20),\n",
    "RealParameter('change in transportation time PPE',7, 60),\n",
    "\n",
    "# ventilator stockpile\n",
    "RealParameter('Delivery time of ventilators stockpiling',1, 14),\n",
    "RealParameter('Initial ventilators in stockpile',0, 10000),\n",
    "RealParameter('Preparation time for delivery',1, 10),\n",
    "RealParameter('Delivery time of ventilators stockpiling',1,21),\n",
    "                       \n",
    "#ventilator domestic production\n",
    "RealParameter('Production time domestic production',1, 5),\n",
    "RealParameter('Transportation time domestic production',1, 10),\n",
    "RealParameter('Shipment time domestic production',1, 21),\n",
    "RealParameter('Delay domestic production setup ventilator',7, 60),\n",
    "RealParameter('Time to reach maximum production capacity vent dom production',5, 30),\n",
    "RealParameter('Time to reach maximum procurement capacity vent dom production',5, 30),\n",
    "RealParameter('Production capacity domestic production ventilator',50, 430),\n",
    "RealParameter('Raw material domestic production ventilator', 50, 430),\n",
    "\n",
    "#ventilator loan\n",
    "RealParameter('Delivery time for available ventilators',1, 21),\n",
    "RealParameter('Check up time',1, 21),\n",
    "RealParameter('Share of ventilators available and fitting',0, 1),\n",
    "RealParameter('Potentially available ventilators',0, 2400),\n",
    "\n",
    "# ventilator direct tender\n",
    "RealParameter('Transportation time direct tender ventilator',1, 10),\n",
    "RealParameter('Production time ventilators direct tender',1, 10),\n",
    "RealParameter('Base production capacity direct tender ventilator',50, 500),\n",
    "RealParameter('Maximum prod direct tender vent',1, 10),\n",
    "RealParameter('Shipment time direct tender',14, 120),\n",
    "RealParameter('Share of faulty products',0, 0.5),\n",
    "RealParameter('Direct tender set up time ventilator',7, 45),\n",
    "\n",
    "                       \n",
    "# ventilator innovation\n",
    "# RealParameter('Urgentness',0, 5),\n",
    "RealParameter('Reach ',0, 2000),\n",
    "# RealParameter('Government support ',0, 0.1),\n",
    "RealParameter('Production time innovation ',1, 7),\n",
    "RealParameter('Share of actionable innovations', 0.01, 0.2),\n",
    "RealParameter('Transportation time ventilator innovation',1, 10),\n",
    "RealParameter('Shipment time innovation ',1, 21),\n",
    "RealParameter('Average time to approve and develop products',15, 120),\n",
    "RealParameter('Time to reach maximum production capacity vent innovation',10, 90),\n",
    "RealParameter('Time to reach maximum procurement capacity vent innovation',10, 90),                     \n",
    "RealParameter('Setting up innovation process',5, 60), \n",
    "RealParameter('Base capacity innovation',1, 30),\n",
    "                       \n",
    "#ventilator production worldwide\n",
    "RealParameter('Production time ventilator production worldwide',1, 10),\n",
    "RealParameter('Base raw material ventilator production worldwide',430, 1720),\n",
    "RealParameter('Preparation shipment production worldwide',1, 10),\n",
    "RealParameter('Reduction export ventilator',0, 1),                    \n",
    "RealParameter('Purchasing power UK as share of GDP per person',0.05 , 0.33),\n",
    "RealParameter('Shipment time procurement from world market',14, 90),\n",
    "RealParameter('Maximum increase in procurement capacity vent ww',1, 15),\n",
    "RealParameter('Time to reach maximum procurement capacity vent worldwide',60, 480),\n",
    "RealParameter('Maximum days in backlog before increase in procu capacity vent',1, 20),       \n",
    "RealParameter('Maximum increase in production capacity vent worldwide',1, 15),\n",
    "RealParameter('Time to reach maximum production capacity vent worldwide',60, 480),\n",
    "RealParameter('Maximum days in backlog before increase in prod capacity vent',14, 60),   \n",
    "RealParameter('Maximum days in backlog before increase in procu capacity vent',14, 60),   \n",
    "RealParameter('Share of vent ready for previous order',0.2, 1),\n",
    "RealParameter('Maximum transportation time',1, 3),\n",
    "RealParameter('change in transportation time',7, 60)]\n"
   ]
  },
  {
   "cell_type": "code",
   "execution_count": 14,
   "id": "da1a4fe1",
   "metadata": {
    "scrolled": true
   },
   "outputs": [
    {
     "name": "stdout",
     "output_type": "stream",
     "text": [
      "<ema_workbench.em_framework.util.NamedObjectMap object at 0x000002163A9C1B08>\n"
     ]
    }
   ],
   "source": [
    "print(Model.outcomes)"
   ]
  },
  {
   "cell_type": "code",
   "execution_count": 15,
   "id": "29dc251c",
   "metadata": {},
   "outputs": [],
   "source": [
    "policies = [Policy('All out',\n",
    "                       model_file='Models\\Infection Model Testing 02032022 AllOut.vpmx'),\n",
    "                Policy('UK tactic',\n",
    "                       model_file='Models\\Infection Model Testing 02032022 UK.vpmx'),\n",
    "                Policy('Focus Innovation',\n",
    "                       model_file='Models\\Infection Model Testing 02032022 Innovation.vpmx'),\n",
    "                Policy('Focus National',\n",
    "                       model_file = 'Models\\Infection Model Testing 02032022 ForesightNational.vpmx')\n",
    "                ]"
   ]
  },
  {
   "cell_type": "code",
   "execution_count": null,
   "id": "e5f4e0a1",
   "metadata": {},
   "outputs": [],
   "source": [
    "with MultiprocessingEvaluator(Model) as evaluator:\n",
    "    results = evaluator.perform_experiments(1000)"
   ]
  },
  {
   "cell_type": "code",
   "execution_count": 16,
   "id": "86c9ace4",
   "metadata": {},
   "outputs": [
    {
     "name": "stderr",
     "output_type": "stream",
     "text": [
      "[MainProcess/INFO] performing 800 scenarios * 4 policies * 1 model(s) = 3200 experiments\n",
      "[MainProcess/INFO] performing experiments sequentially\n",
      "[MainProcess/INFO] 32 cases completed\n",
      "[MainProcess/INFO] 64 cases completed\n",
      "[MainProcess/INFO] 96 cases completed\n",
      "[MainProcess/INFO] 128 cases completed\n",
      "[MainProcess/INFO] 160 cases completed\n",
      "[MainProcess/INFO] 192 cases completed\n",
      "[MainProcess/INFO] 224 cases completed\n",
      "[MainProcess/INFO] 256 cases completed\n",
      "[MainProcess/INFO] 288 cases completed\n",
      "[MainProcess/INFO] 320 cases completed\n",
      "[MainProcess/INFO] 352 cases completed\n",
      "[MainProcess/INFO] 384 cases completed\n",
      "[MainProcess/INFO] 416 cases completed\n",
      "[MainProcess/INFO] 448 cases completed\n",
      "[MainProcess/INFO] 480 cases completed\n",
      "[MainProcess/INFO] 512 cases completed\n",
      "[MainProcess/INFO] 544 cases completed\n",
      "[MainProcess/INFO] 576 cases completed\n",
      "[MainProcess/INFO] 608 cases completed\n",
      "[MainProcess/INFO] 640 cases completed\n",
      "[MainProcess/INFO] 672 cases completed\n",
      "[MainProcess/INFO] 704 cases completed\n",
      "[MainProcess/INFO] 736 cases completed\n",
      "[MainProcess/INFO] 768 cases completed\n",
      "[MainProcess/INFO] 800 cases completed\n",
      "[MainProcess/INFO] 832 cases completed\n",
      "[MainProcess/INFO] 864 cases completed\n",
      "[MainProcess/INFO] 896 cases completed\n",
      "[MainProcess/INFO] 928 cases completed\n",
      "[MainProcess/INFO] 960 cases completed\n",
      "[MainProcess/INFO] 992 cases completed\n",
      "[MainProcess/INFO] 1024 cases completed\n",
      "[MainProcess/INFO] 1056 cases completed\n",
      "[MainProcess/INFO] 1088 cases completed\n",
      "[MainProcess/INFO] 1120 cases completed\n",
      "[MainProcess/INFO] 1152 cases completed\n",
      "[MainProcess/INFO] 1184 cases completed\n",
      "[MainProcess/INFO] 1216 cases completed\n",
      "[MainProcess/INFO] 1248 cases completed\n",
      "[MainProcess/INFO] 1280 cases completed\n",
      "[MainProcess/INFO] 1312 cases completed\n",
      "[MainProcess/INFO] 1344 cases completed\n",
      "[MainProcess/INFO] 1376 cases completed\n",
      "[MainProcess/INFO] 1408 cases completed\n",
      "[MainProcess/INFO] 1440 cases completed\n",
      "[MainProcess/INFO] 1472 cases completed\n",
      "[MainProcess/INFO] 1504 cases completed\n",
      "[MainProcess/INFO] 1536 cases completed\n",
      "[MainProcess/INFO] 1568 cases completed\n",
      "[MainProcess/INFO] 1600 cases completed\n",
      "[MainProcess/INFO] 1632 cases completed\n",
      "[MainProcess/INFO] 1664 cases completed\n",
      "[MainProcess/INFO] 1696 cases completed\n",
      "[MainProcess/INFO] 1728 cases completed\n",
      "[MainProcess/INFO] 1760 cases completed\n",
      "[MainProcess/INFO] 1792 cases completed\n",
      "[MainProcess/INFO] 1824 cases completed\n",
      "[MainProcess/INFO] 1856 cases completed\n",
      "[MainProcess/INFO] 1888 cases completed\n",
      "[MainProcess/INFO] 1920 cases completed\n",
      "[MainProcess/INFO] 1952 cases completed\n",
      "[MainProcess/INFO] 1984 cases completed\n",
      "[MainProcess/INFO] 2016 cases completed\n",
      "[MainProcess/INFO] 2048 cases completed\n",
      "[MainProcess/INFO] 2080 cases completed\n",
      "[MainProcess/INFO] 2112 cases completed\n",
      "[MainProcess/INFO] 2144 cases completed\n",
      "[MainProcess/INFO] 2176 cases completed\n",
      "[MainProcess/INFO] 2208 cases completed\n",
      "[MainProcess/INFO] 2240 cases completed\n",
      "[MainProcess/INFO] 2272 cases completed\n",
      "[MainProcess/INFO] 2304 cases completed\n",
      "[MainProcess/INFO] 2336 cases completed\n",
      "[MainProcess/INFO] 2368 cases completed\n",
      "[MainProcess/INFO] 2400 cases completed\n",
      "[MainProcess/INFO] 2432 cases completed\n",
      "[MainProcess/INFO] 2464 cases completed\n",
      "[MainProcess/INFO] 2496 cases completed\n",
      "[MainProcess/INFO] 2528 cases completed\n",
      "[MainProcess/INFO] 2560 cases completed\n",
      "[MainProcess/INFO] 2592 cases completed\n",
      "[MainProcess/INFO] 2624 cases completed\n",
      "[MainProcess/INFO] 2656 cases completed\n",
      "[MainProcess/INFO] 2688 cases completed\n",
      "[MainProcess/INFO] 2720 cases completed\n",
      "[MainProcess/INFO] 2752 cases completed\n",
      "[MainProcess/INFO] 2784 cases completed\n",
      "[MainProcess/INFO] 2816 cases completed\n",
      "[MainProcess/INFO] 2848 cases completed\n",
      "[MainProcess/INFO] 2880 cases completed\n",
      "[MainProcess/INFO] 2912 cases completed\n",
      "[MainProcess/INFO] 2944 cases completed\n",
      "[MainProcess/INFO] 2976 cases completed\n",
      "[MainProcess/INFO] 3008 cases completed\n",
      "[MainProcess/INFO] 3040 cases completed\n",
      "[MainProcess/INFO] 3072 cases completed\n",
      "[MainProcess/INFO] 3104 cases completed\n",
      "[MainProcess/INFO] 3136 cases completed\n",
      "[MainProcess/INFO] 3168 cases completed\n",
      "[MainProcess/INFO] 3200 cases completed\n",
      "[MainProcess/INFO] experiments finished\n"
     ]
    }
   ],
   "source": [
    "results = perform_experiments(Model,800, policies = policies, reporting_frequency = 100)"
   ]
  },
  {
   "cell_type": "code",
   "execution_count": 17,
   "id": "c8c42c11",
   "metadata": {},
   "outputs": [
    {
     "name": "stderr",
     "output_type": "stream",
     "text": [
      "[MainProcess/INFO] results saved successfully to C:\\Users\\pmg00\\Documents\\EPA Master program\\EPA Master Thesis\\Vensim Models\\EMA Workbench connection\\data\\800 cases 06032022.tar.gz\n"
     ]
    }
   ],
   "source": [
    "save_results(results, 'C:/Users/pmg00/Documents/EPA Master program/EPA Master Thesis/Vensim Models/EMA Workbench connection/data/800 cases 06032022.tar.gz')"
   ]
  },
  {
   "cell_type": "code",
   "execution_count": null,
   "id": "1e2ca702",
   "metadata": {},
   "outputs": [],
   "source": []
  }
 ],
 "metadata": {
  "kernelspec": {
   "display_name": "Python 3 (ipykernel)",
   "language": "python",
   "name": "python3"
  },
  "language_info": {
   "codemirror_mode": {
    "name": "ipython",
    "version": 3
   },
   "file_extension": ".py",
   "mimetype": "text/x-python",
   "name": "python",
   "nbconvert_exporter": "python",
   "pygments_lexer": "ipython3",
   "version": "3.7.7"
  }
 },
 "nbformat": 4,
 "nbformat_minor": 5
}
