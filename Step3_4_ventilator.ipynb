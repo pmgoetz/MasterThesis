{
 "cells": [
  {
   "cell_type": "markdown",
   "id": "ad1e6e60",
   "metadata": {},
   "source": [
    "# Uncertainty analysis with candidate policiy ventilator"
   ]
  },
  {
   "cell_type": "code",
   "execution_count": 2,
   "id": "7d258c23",
   "metadata": {},
   "outputs": [],
   "source": [
    "# import needed packages\n",
    "import platypus"
   ]
  },
  {
   "cell_type": "code",
   "execution_count": 3,
   "id": "66375bb3",
   "metadata": {},
   "outputs": [
    {
     "name": "stderr",
     "output_type": "stream",
     "text": [
      "c:\\users\\pmg00\\appdata\\local\\programs\\python\\python37\\lib\\site-packages\\ema_workbench\\connectors\\__init__.py:27: ImportWarning: netlogo connector not available\n",
      "  warnings.warn(\"netlogo connector not available\", ImportWarning)\n",
      "c:\\users\\pmg00\\appdata\\local\\programs\\python\\python37\\lib\\site-packages\\ema_workbench\\analysis\\prim.py:31: ImportWarning: altair based interactive inspection not available\n",
      "  \"inspection not available\"), ImportWarning)\n"
     ]
    }
   ],
   "source": [
    "import numpy as np\n",
    "import pandas as pd\n",
    "import functools\n",
    "import matplotlib.pyplot as plt\n",
    "import seaborn as sns\n",
    "\n",
    "from ema_workbench import (save_results, Constraint, SequentialEvaluator, TimeSeriesOutcome,\n",
    "                           RealParameter, ScalarOutcome, CategoricalParameter, ema_logging, \n",
    "                           perform_experiments, Policy, IntegerParameter)\n",
    "\n",
    "from ema_workbench.connectors.vensim import VensimModel\n",
    "from ema_workbench.connectors import vensim\n",
    "from ema_workbench.em_framework.parameters import Scenario\n",
    "from ema_workbench.analysis import parcoords"
   ]
  },
  {
   "cell_type": "code",
   "execution_count": 4,
   "id": "425b5ad0",
   "metadata": {},
   "outputs": [],
   "source": [
    "if __name__ == \"__main__\":\n",
    "    ema_logging.log_to_stderr(ema_logging.INFO )"
   ]
  },
  {
   "cell_type": "code",
   "execution_count": 5,
   "id": "204b867b",
   "metadata": {},
   "outputs": [
    {
     "data": {
      "text/plain": [
       "'C:/Users/pmg00/Documents/EPA Master program/EPA Master Thesis/Vensim Models/EMA Workbench connection'"
      ]
     },
     "execution_count": 5,
     "metadata": {},
     "output_type": "execute_result"
    }
   ],
   "source": [
    "#set working directory\n",
    "wd = 'C:/Users/pmg00/Documents/EPA Master program/EPA Master Thesis/Vensim Models/EMA Workbench connection'"
   ]
  },
  {
   "cell_type": "code",
   "execution_count": 6,
   "id": "1b86e602",
   "metadata": {},
   "outputs": [],
   "source": [
    "#import vensim model\n",
    "Model = VensimModel('Model', wd= wd, model_file= './Model/Infection_Model_Testing_02032022_Test.vpmx')"
   ]
  },
  {
   "cell_type": "code",
   "execution_count": 7,
   "id": "0e572ab8",
   "metadata": {},
   "outputs": [],
   "source": [
    "# define uncertainties for ventilators\n",
    "# exclude uncertainties for PPE \n",
    "\n",
    "# ventilator stockpile\n",
    "Model.uncertainties = [RealParameter('Delivery time of ventilators stockpiling',1, 14),\n",
    "# RealParameter('Initial ventilators in stockpile',0, 10000),\n",
    "RealParameter('Preparation time for delivery',1, 10),\n",
    "RealParameter('Delivery time of ventilators stockpiling',1,21),\n",
    "                       \n",
    "#ventilator domestic production\n",
    "RealParameter('Production time domestic production',1, 5),\n",
    "RealParameter('Transportation time domestic production',1, 10),\n",
    "RealParameter('Shipment time domestic production',1, 21),\n",
    "RealParameter('Delay domestic production setup ventilator',7, 60),\n",
    "RealParameter('Time to reach maximum production capacity vent dom production',5, 30),\n",
    "RealParameter('Time to reach maximum procurement capacity vent dom production',5, 30),\n",
    "RealParameter('Production capacity domestic production ventilator',50, 430),\n",
    "RealParameter('Raw material domestic production ventilator', 50, 430),\n",
    "\n",
    "#ventilator loan\n",
    "RealParameter('Delivery time for available ventilators',1, 21),\n",
    "# RealParameter('Check up time',1, 21),\n",
    "RealParameter('Share of ventilators available and fitting',0, 1),\n",
    "RealParameter('Potentially available ventilators',0, 2400),\n",
    "\n",
    "# ventilator direct tender\n",
    "RealParameter('Transportation time direct tender ventilator',1, 10),\n",
    "RealParameter('Production time ventilators direct tender',1, 10),\n",
    "RealParameter('Base production capacity direct tender ventilator',50, 500),\n",
    "RealParameter('Maximum prod direct tender vent',1, 10),\n",
    "RealParameter('Shipment time direct tender',14, 120),\n",
    "RealParameter('Share of faulty products',0, 0.5),\n",
    "RealParameter('Direct tender set up time ventilator',7, 45),\n",
    "\n",
    "                       \n",
    "# ventilator innovation\n",
    "# RealParameter('Urgentness',0, 5),\n",
    "# RealParameter('Reach ',0, 2000),\n",
    "# # RealParameter('Government support ',0, 0.1),\n",
    "# RealParameter('Production time innovation ',1, 7),\n",
    "# RealParameter('Share of actionable innovations', 0.01, 0.2),\n",
    "# RealParameter('Transportation time ventilator innovation',1, 10),\n",
    "# RealParameter('Shipment time innovation ',1, 21),\n",
    "# RealParameter('Average time to approve and develop products',15, 120),\n",
    "# RealParameter('Time to reach maximum production capacity vent innovation',10, 90),\n",
    "# RealParameter('Time to reach maximum procurement capacity vent innovation',10, 90),                     \n",
    "# RealParameter('Setting up innovation process',5, 60), \n",
    "# RealParameter('Base capacity innovation',1, 30),\n",
    "                       \n",
    "#ventilator production worldwide\n",
    "RealParameter('Production time ventilator production worldwide',1, 10),\n",
    "RealParameter('Base raw material ventilator production worldwide',430, 1720),\n",
    "RealParameter('Preparation shipment production worldwide',1, 10),\n",
    "RealParameter('Purchasing power UK as share of GDP per person',0.05 , 0.33),\n",
    "RealParameter('Shipment time procurement from world market',14, 90),\n",
    "RealParameter('Maximum increase in procurement capacity vent ww',1, 15),\n",
    "RealParameter('Time to reach maximum procurement capacity vent worldwide',60, 480),\n",
    "RealParameter('Maximum days in backlog before increase in procu capacity vent',1, 20),       \n",
    "RealParameter('Maximum increase in production capacity vent worldwide',1, 15),\n",
    "RealParameter('Reduction export ventilator',0,1),\n",
    "RealParameter('Time to reach maximum production capacity vent worldwide',60, 480),\n",
    "RealParameter('Maximum days in backlog before increase in prod capacity vent',14, 60),   \n",
    "RealParameter('Maximum days in backlog before increase in procu capacity vent',14, 60),   \n",
    "RealParameter('Share of vent ready for previous order',0.2, 1),\n",
    "RealParameter('Maximum transportation time',1, 3),\n",
    "RealParameter('change in transportation time',7, 60)]\n",
    "                       \n",
    "#Decision Framework\n",
    "# RealParameter('Share of forecasted PPE demand covered by procurement world market',0, 2),\n"
   ]
  },
  {
   "cell_type": "code",
   "execution_count": 8,
   "id": "cff9029b",
   "metadata": {},
   "outputs": [],
   "source": [
    "# define decision levers\n",
    "Model.levers = [IntegerParameter('Switch procurement world market ventilator',0,1),\n",
    "                IntegerParameter('Switch direct tender ventilators',0,1),\n",
    "                IntegerParameter('Switch innovation process ventilator',0,1),\n",
    "                IntegerParameter('Switch loaning ventilators',0,1),\n",
    "                IntegerParameter('Switch domestic production ventilators',0,1),\n",
    "\n",
    "RealParameter('Time to check products',1, 5),\n",
    "RealParameter('Shipment time to hospitals',1, 10),\n",
    "RealParameter('Order buffer procurement world market vent',0.5, 3),\n",
    "RealParameter('Order buffer direct tender vent',0.5, 3),\n",
    "RealParameter('Order buffer domestic production',0.5, 3),\n",
    "RealParameter('Order buffer innovation',0.5, 3),\n",
    "RealParameter('Time to establish loaning process',3.5 , 21),\n",
    "RealParameter('Time horizon for forecast',5 , 30),\n",
    "RealParameter('Urgentness',0 ,5),\n",
    "RealParameter('Initial ventilators in stockpile',0, 10000),\n",
    "RealParameter('Government support ',0, 0.1)]"
   ]
  },
  {
   "cell_type": "code",
   "execution_count": 9,
   "id": "67fcf36a",
   "metadata": {},
   "outputs": [],
   "source": [
    "from LastElement import get_last_element"
   ]
  },
  {
   "cell_type": "code",
   "execution_count": 10,
   "id": "dae3e0cb",
   "metadata": {},
   "outputs": [
    {
     "data": {
      "text/html": [
       "<div>\n",
       "<style scoped>\n",
       "    .dataframe tbody tr th:only-of-type {\n",
       "        vertical-align: middle;\n",
       "    }\n",
       "\n",
       "    .dataframe tbody tr th {\n",
       "        vertical-align: top;\n",
       "    }\n",
       "\n",
       "    .dataframe thead th {\n",
       "        text-align: right;\n",
       "    }\n",
       "</style>\n",
       "<table border=\"1\" class=\"dataframe\">\n",
       "  <thead>\n",
       "    <tr style=\"text-align: right;\">\n",
       "      <th></th>\n",
       "      <th>Unnamed: 0</th>\n",
       "      <th>Switch stockpile ventilators</th>\n",
       "      <th>Switch procurement world market ventilator</th>\n",
       "      <th>Switch direct tender ventilators</th>\n",
       "      <th>Switch innovation process ventilator</th>\n",
       "      <th>Switch loaning ventilators</th>\n",
       "      <th>Switch domestic production ventilators</th>\n",
       "      <th>Direct tender set up time ventilator</th>\n",
       "      <th>Check up time</th>\n",
       "      <th>Delay domestic production setup ventilator</th>\n",
       "      <th>...</th>\n",
       "      <th>Order buffer procurement world market vent</th>\n",
       "      <th>Order buffer direct tender vent</th>\n",
       "      <th>Order buffer domestic production</th>\n",
       "      <th>Order buffer innovation</th>\n",
       "      <th>Time to establish loaning process</th>\n",
       "      <th>Time horizon for forecast</th>\n",
       "      <th>Urgentness</th>\n",
       "      <th>Initial ventilators in stockpile</th>\n",
       "      <th>Government support</th>\n",
       "      <th>Coverage ventilator</th>\n",
       "    </tr>\n",
       "  </thead>\n",
       "  <tbody>\n",
       "    <tr>\n",
       "      <th>0</th>\n",
       "      <td>0</td>\n",
       "      <td>0</td>\n",
       "      <td>0</td>\n",
       "      <td>1</td>\n",
       "      <td>0</td>\n",
       "      <td>1</td>\n",
       "      <td>1</td>\n",
       "      <td>7.973928</td>\n",
       "      <td>7.253097</td>\n",
       "      <td>7.263243</td>\n",
       "      <td>...</td>\n",
       "      <td>0.82236</td>\n",
       "      <td>1.399103</td>\n",
       "      <td>0.67371</td>\n",
       "      <td>0.971423</td>\n",
       "      <td>15.268815</td>\n",
       "      <td>21.837371</td>\n",
       "      <td>1.715718</td>\n",
       "      <td>6117.520616</td>\n",
       "      <td>0.079924</td>\n",
       "      <td>13.391387</td>\n",
       "    </tr>\n",
       "  </tbody>\n",
       "</table>\n",
       "<p>1 rows × 25 columns</p>\n",
       "</div>"
      ],
      "text/plain": [
       "   Unnamed: 0  Switch stockpile ventilators  \\\n",
       "0           0                             0   \n",
       "\n",
       "   Switch procurement world market ventilator  \\\n",
       "0                                           0   \n",
       "\n",
       "   Switch direct tender ventilators  Switch innovation process ventilator  \\\n",
       "0                                 1                                     0   \n",
       "\n",
       "   Switch loaning ventilators  Switch domestic production ventilators  \\\n",
       "0                           1                                       1   \n",
       "\n",
       "   Direct tender set up time ventilator  Check up time  \\\n",
       "0                              7.973928       7.253097   \n",
       "\n",
       "   Delay domestic production setup ventilator  ...  \\\n",
       "0                                    7.263243  ...   \n",
       "\n",
       "   Order buffer procurement world market vent  \\\n",
       "0                                     0.82236   \n",
       "\n",
       "   Order buffer direct tender vent  Order buffer domestic production  \\\n",
       "0                         1.399103                           0.67371   \n",
       "\n",
       "   Order buffer innovation  Time to establish loaning process  \\\n",
       "0                 0.971423                          15.268815   \n",
       "\n",
       "   Time horizon for forecast  Urgentness  Initial ventilators in stockpile  \\\n",
       "0                  21.837371    1.715718                       6117.520616   \n",
       "\n",
       "   Government support   Coverage ventilator  \n",
       "0             0.079924            13.391387  \n",
       "\n",
       "[1 rows x 25 columns]"
      ]
     },
     "execution_count": 10,
     "metadata": {},
     "output_type": "execute_result"
    }
   ],
   "source": [
    "#import policies from directed search\n",
    "results_policies = pd.read_csv('./data/4000_candidate_ventilator.csv',delimiter = ';', decimal= \",\")\n",
    "results_policies"
   ]
  },
  {
   "cell_type": "code",
   "execution_count": 11,
   "id": "b00b866e",
   "metadata": {},
   "outputs": [],
   "source": [
    "# drop unnamed and switch stockpile ventilators because they are not needed\n",
    "results_policies = results_policies.drop(['Unnamed: 0'], axis=1)\n",
    "results_policies = results_policies.drop(['Switch stockpile ventilators'], axis =1)\n",
    "\n",
    "#create policies\n",
    "policies_to_evaluate = []\n",
    "\n",
    "for i, policy in results_policies.iterrows():\n",
    "    policies_to_evaluate.append(Policy(str(i), **policy.to_dict()))"
   ]
  },
  {
   "cell_type": "code",
   "execution_count": 12,
   "id": "42e652ca",
   "metadata": {},
   "outputs": [
    {
     "data": {
      "text/plain": [
       "[Policy({'Switch procurement world market ventilator': 0.0, 'Switch direct tender ventilators': 1.0, 'Switch innovation process ventilator': 0.0, 'Switch loaning ventilators': 1.0, 'Switch domestic production ventilators': 1.0, 'Direct tender set up time ventilator': 7.973928126000001, 'Check up time': 7.253096836, 'Delay domestic production setup ventilator': 7.263243202999999, 'Delivery time of ventilators stockpiling': 1.07692105, 'Procurement time ventilators worldwide': 20.83893751, 'Preparation time for delivery': 2.0163410180000003, 'Time to check products': 1.040890702, 'Shipment time to hospitals': 1.002562924, 'Order buffer procurement world market vent': 0.8223601140000001, 'Order buffer direct tender vent': 1.399103152, 'Order buffer domestic production': 0.67370966, 'Order buffer innovation': 0.9714232309999999, 'Time to establish loaning process': 15.26881466, 'Time horizon for forecast': 21.83737059, 'Urgentness': 1.71571834, 'Initial ventilators in stockpile': 6117.520616, 'Government support ': 0.079923662, 'Coverage ventilator': 13.39138699})]"
      ]
     },
     "execution_count": 12,
     "metadata": {},
     "output_type": "execute_result"
    }
   ],
   "source": [
    "policies_to_evaluate"
   ]
  },
  {
   "cell_type": "code",
   "execution_count": 13,
   "id": "49c51e48",
   "metadata": {},
   "outputs": [],
   "source": [
    "#define the outcomes\n",
    "#policies that perform better in terms of shortage and not \n",
    "Model.outcomes = [ScalarOutcome('Coverage ventilator', variable_name='Total normalized coverage ventilator',\n",
    "                                          kind=ScalarOutcome.MAXIMIZE, function = get_last_element),\n",
    "                TimeSeriesOutcome(\"Shortage of ventilators per day\"),               \n",
    "                TimeSeriesOutcome(\"Normalized shortage of ventilators\"),\n",
    "                TimeSeriesOutcome(\"Normalized coverage ventilators\"),\n",
    "                TimeSeriesOutcome(\"Total cost for ventilators\"),\n",
    "                TimeSeriesOutcome(\"Ventilators supply ready to be shipped\")]"
   ]
  },
  {
   "cell_type": "code",
   "execution_count": 14,
   "id": "5b547565",
   "metadata": {},
   "outputs": [
    {
     "name": "stderr",
     "output_type": "stream",
     "text": [
      "[MainProcess/INFO] performing 1000 scenarios * 1 policies * 1 model(s) = 1000 experiments\n",
      "[MainProcess/INFO] performing experiments sequentially\n",
      "[MainProcess/INFO] 100 cases completed\n",
      "[MainProcess/INFO] 200 cases completed\n",
      "[MainProcess/INFO] 300 cases completed\n",
      "[MainProcess/INFO] 400 cases completed\n",
      "[MainProcess/INFO] 500 cases completed\n",
      "[MainProcess/INFO] 600 cases completed\n",
      "[MainProcess/INFO] 700 cases completed\n",
      "[MainProcess/INFO] 800 cases completed\n",
      "[MainProcess/INFO] 900 cases completed\n",
      "[MainProcess/INFO] 1000 cases completed\n",
      "[MainProcess/INFO] experiments finished\n"
     ]
    }
   ],
   "source": [
    "# define amount of scenarios\n",
    "n_scenarios = 1000\n",
    "\n",
    "#evaluating the policies over the generated scenarios\n",
    "with SequentialEvaluator(Model) as evaluator:\n",
    "    results = evaluator.perform_experiments(n_scenarios,policies_to_evaluate)"
   ]
  },
  {
   "cell_type": "code",
   "execution_count": 15,
   "id": "1a46ae7b",
   "metadata": {},
   "outputs": [
    {
     "name": "stderr",
     "output_type": "stream",
     "text": [
      "[MainProcess/INFO] results saved successfully to C:\\Users\\pmg00\\Documents\\EPA Master program\\EPA Master Thesis\\Vensim Models\\EMA Workbench connection\\data\\results_step3_vent_final.tar.gz\n"
     ]
    }
   ],
   "source": [
    "#save results\n",
    "save_results(results, './data/results_step3_vent_final.tar.gz')"
   ]
  }
 ],
 "metadata": {
  "kernelspec": {
   "display_name": "Python 3 (ipykernel)",
   "language": "python",
   "name": "python3"
  },
  "language_info": {
   "codemirror_mode": {
    "name": "ipython",
    "version": 3
   },
   "file_extension": ".py",
   "mimetype": "text/x-python",
   "name": "python",
   "nbconvert_exporter": "python",
   "pygments_lexer": "ipython3",
   "version": "3.7.7"
  }
 },
 "nbformat": 4,
 "nbformat_minor": 5
}
